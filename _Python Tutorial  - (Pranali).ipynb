{
 "cells": [
  {
   "cell_type": "code",
   "execution_count": 4,
   "id": "e302ff3d",
   "metadata": {},
   "outputs": [
    {
     "name": "stdout",
     "output_type": "stream",
     "text": [
      "Hello Pranali\n"
     ]
    }
   ],
   "source": [
    "#Printing Words :\n",
    "\n",
    "print(\"Hello Pranali\")"
   ]
  },
  {
   "cell_type": "code",
   "execution_count": 6,
   "id": "29063ea8",
   "metadata": {},
   "outputs": [
    {
     "name": "stdout",
     "output_type": "stream",
     "text": [
      "Pranali\n",
      "20\n"
     ]
    }
   ],
   "source": [
    "name= \"Pranali\"\n",
    "age= 20\n",
    "print(name)\n",
    "print(age)"
   ]
  },
  {
   "cell_type": "code",
   "execution_count": 8,
   "id": "39f87590",
   "metadata": {},
   "outputs": [
    {
     "name": "stdout",
     "output_type": "stream",
     "text": [
      "Pranali is Genuise.\n"
     ]
    }
   ],
   "source": [
    "print (\"Pranali is Genuise.\")"
   ]
  },
  {
   "cell_type": "code",
   "execution_count": 10,
   "id": "08a3dd40",
   "metadata": {},
   "outputs": [
    {
     "name": "stdout",
     "output_type": "stream",
     "text": [
      "What is your name?  Pranali\n",
      "Hello  Pranali\n"
     ]
    }
   ],
   "source": [
    "#Using input :\n",
    "\n",
    "name=input(\"What is your name?\")\n",
    "print(\"Hello\" + name)"
   ]
  },
  {
   "cell_type": "code",
   "execution_count": 2,
   "id": "c61f7626",
   "metadata": {},
   "outputs": [
    {
     "name": "stdout",
     "output_type": "stream",
     "text": [
      "Enter your age:20\n",
      "22\n"
     ]
    }
   ],
   "source": [
    "old_age=input(\"Enter your age:\")\n",
    "new_age=int(old_age) + 2\n",
    "print(new_age)"
   ]
  },
  {
   "cell_type": "code",
   "execution_count": 5,
   "id": "4b8ccc7e",
   "metadata": {},
   "outputs": [
    {
     "name": "stdout",
     "output_type": "stream",
     "text": [
      "20.0\n"
     ]
    }
   ],
   "source": [
    "#Using float :\n",
    "\n",
    "number = 20\n",
    "print(float((20)))"
   ]
  },
  {
   "cell_type": "code",
   "execution_count": 8,
   "id": "e83a5903",
   "metadata": {},
   "outputs": [
    {
     "name": "stdout",
     "output_type": "stream",
     "text": [
      "enter the first number :5\n",
      "enter the second number :7\n",
      "57\n"
     ]
    }
   ],
   "source": [
    "## Printing sums of 2 numers :\n",
    "# (1) Concatenation :\n",
    "    \n",
    "first = input(\"enter the first number :\")\n",
    "second = input(\"enter the second number :\")\n",
    "sum= first + second\n",
    "print(sum)"
   ]
  },
  {
   "cell_type": "code",
   "execution_count": 11,
   "id": "53164f05",
   "metadata": {},
   "outputs": [
    {
     "name": "stdout",
     "output_type": "stream",
     "text": [
      "Enter first number : 20\n",
      "Enter second number :22\n",
      "The sum is : 42\n"
     ]
    }
   ],
   "source": [
    "# (2) summutions :\n",
    "# use of int , str :\n",
    "\n",
    "first= input(\"Enter first number : \")\n",
    "second=input(\"Enter second number :\")\n",
    "sum=int(first) + int(second)\n",
    "print(\"The sum is : \" + str(sum))\n"
   ]
  },
  {
   "cell_type": "code",
   "execution_count": 15,
   "id": "a7847152",
   "metadata": {},
   "outputs": [
    {
     "name": "stdout",
     "output_type": "stream",
     "text": [
      "PRANALI PATIL\n",
      "pranali patil\n",
      "Pranali Patil\n"
     ]
    }
   ],
   "source": [
    "#Use of string Methods :\n",
    "\n",
    "name=\"Pranali Patil\"\n",
    "print(name.upper())\n",
    "print(name.lower())\n",
    "print(name)"
   ]
  },
  {
   "cell_type": "code",
   "execution_count": 16,
   "id": "8b8f951c",
   "metadata": {},
   "outputs": [
    {
     "name": "stdout",
     "output_type": "stream",
     "text": [
      "2\n"
     ]
    }
   ],
   "source": [
    "name = \"Pranali Patil 28.11\"\n",
    "print(name.find('a'))"
   ]
  },
  {
   "cell_type": "code",
   "execution_count": 18,
   "id": "de96f4a0",
   "metadata": {},
   "outputs": [
    {
     "name": "stdout",
     "output_type": "stream",
     "text": [
      "-1\n"
     ]
    }
   ],
   "source": [
    "name = \"Pranali Patil\"\n",
    "print(name.find('b'))\n",
    "\n",
    "# here does not exist here hence -1"
   ]
  },
  {
   "cell_type": "code",
   "execution_count": 25,
   "id": "7f794eb5",
   "metadata": {},
   "outputs": [
    {
     "name": "stdout",
     "output_type": "stream",
     "text": [
      "Lady Don\n",
      "Saniya Patil\n",
      "Saniya Don\n",
      "True\n",
      "False\n"
     ]
    }
   ],
   "source": [
    "name = \"Saniya Patil\"\n",
    "print(name.replace(\"Saniya Patil\",\"Lady Don\"))\n",
    "print(name)\n",
    "print(name.replace(\"Patil\",\"Don\"))\n",
    "print(\"Saniya\" in name)\n",
    "print(\"B\" in name)"
   ]
  },
  {
   "cell_type": "code",
   "execution_count": 27,
   "id": "5bc55c3f",
   "metadata": {},
   "outputs": [
    {
     "name": "stdout",
     "output_type": "stream",
     "text": [
      "12\n",
      "2.25\n",
      "8\n",
      "1\n"
     ]
    }
   ],
   "source": [
    "## Arithmetic Operations :\n",
    "\n",
    "print(5+7)\n",
    "print(9/4)\n",
    "print(10-2)\n",
    "print(7//5)\n"
   ]
  },
  {
   "cell_type": "code",
   "execution_count": 30,
   "id": "1a046005",
   "metadata": {},
   "outputs": [
    {
     "name": "stdout",
     "output_type": "stream",
     "text": [
      "1\n",
      "10\n"
     ]
    }
   ],
   "source": [
    "# remainder operator :\n",
    "\n",
    "print(10%3)\n",
    "print(1000 % 55)"
   ]
  },
  {
   "cell_type": "code",
   "execution_count": 31,
   "id": "64349afe",
   "metadata": {},
   "outputs": [
    {
     "name": "stdout",
     "output_type": "stream",
     "text": [
      "16\n"
     ]
    }
   ],
   "source": [
    "# Power operator :\n",
    "\n",
    "print(4**2)"
   ]
  },
  {
   "cell_type": "raw",
   "id": "88105c12",
   "metadata": {},
   "source": [
    "## Shortcuts :\n",
    "\n",
    "p=5\n",
    "p= p+5\n",
    "then we can write as p +=5\n",
    "similarly,           p -=5 and so on"
   ]
  },
  {
   "cell_type": "code",
   "execution_count": 36,
   "id": "a00c9213",
   "metadata": {},
   "outputs": [
    {
     "name": "stdout",
     "output_type": "stream",
     "text": [
      "17\n"
     ]
    }
   ],
   "source": [
    "# Operator Precedence (Who will calculate first i.e + or -) : \n",
    "\n",
    "result = 2+3*5\n",
    "print (result)"
   ]
  },
  {
   "cell_type": "code",
   "execution_count": 37,
   "id": "64dd99e1",
   "metadata": {},
   "outputs": [
    {
     "name": "stdout",
     "output_type": "stream",
     "text": [
      "True\n"
     ]
    }
   ],
   "source": [
    "# comparion operator : \n",
    "\n",
    "print (3>2)"
   ]
  },
  {
   "cell_type": "code",
   "execution_count": 39,
   "id": "ec4f22a0",
   "metadata": {},
   "outputs": [
    {
     "name": "stdout",
     "output_type": "stream",
     "text": [
      "False\n"
     ]
    }
   ],
   "source": [
    "print (11<5)"
   ]
  },
  {
   "cell_type": "code",
   "execution_count": 40,
   "id": "65efe43e",
   "metadata": {},
   "outputs": [
    {
     "name": "stdout",
     "output_type": "stream",
     "text": [
      "False\n"
     ]
    }
   ],
   "source": [
    "print(3==4)"
   ]
  },
  {
   "cell_type": "code",
   "execution_count": 41,
   "id": "5c2b2b82",
   "metadata": {},
   "outputs": [
    {
     "name": "stdout",
     "output_type": "stream",
     "text": [
      "True\n"
     ]
    }
   ],
   "source": [
    "print(3==3)"
   ]
  },
  {
   "cell_type": "raw",
   "id": "7648cddb",
   "metadata": {},
   "source": [
    "for not equql to -\n",
    "print(2!=6)"
   ]
  },
  {
   "cell_type": "code",
   "execution_count": 43,
   "id": "546be328",
   "metadata": {},
   "outputs": [
    {
     "name": "stdout",
     "output_type": "stream",
     "text": [
      "True\n"
     ]
    }
   ],
   "source": [
    "print (4!=5)"
   ]
  },
  {
   "cell_type": "code",
   "execution_count": 46,
   "id": "3921f389",
   "metadata": {},
   "outputs": [
    {
     "name": "stdout",
     "output_type": "stream",
     "text": [
      "False\n"
     ]
    }
   ],
   "source": [
    "# Boolean/ Logic :\n",
    "\n",
    "print(5>4 and 6>9)"
   ]
  },
  {
   "cell_type": "code",
   "execution_count": 47,
   "id": "b9d708b4",
   "metadata": {},
   "outputs": [
    {
     "name": "stdout",
     "output_type": "stream",
     "text": [
      "False\n"
     ]
    }
   ],
   "source": [
    "print(not 3>2)"
   ]
  },
  {
   "cell_type": "code",
   "execution_count": 48,
   "id": "9c1f8b11",
   "metadata": {},
   "outputs": [
    {
     "name": "stdout",
     "output_type": "stream",
     "text": [
      "You are adult.\n",
      "You can vote.\n",
      "Thank You\n"
     ]
    }
   ],
   "source": [
    "## If-else :\n",
    "\n",
    "age = 20\n",
    "if age>=18:\n",
    "    print(\"You are adult.\")\n",
    "    print (\"You can vote.\")\n",
    " \n",
    "print (\"Thank You\")\n"
   ]
  },
  {
   "cell_type": "code",
   "execution_count": 49,
   "id": "f07665ed",
   "metadata": {},
   "outputs": [
    {
     "name": "stdout",
     "output_type": "stream",
     "text": [
      "Thank You!\n"
     ]
    }
   ],
   "source": [
    "age = 10\n",
    "if age>=18:\n",
    "    print(\"You are adult.\")\n",
    "    print (\"You can vote.\")\n",
    " \n",
    "print (\"Thank You!\")\n"
   ]
  },
  {
   "cell_type": "code",
   "execution_count": 1,
   "id": "a6d7776a",
   "metadata": {},
   "outputs": [
    {
     "name": "stdout",
     "output_type": "stream",
     "text": [
      "you are Bachha..Go to home!\n",
      "Thank You\n"
     ]
    }
   ],
   "source": [
    "age = 15\n",
    "if age>=18:\n",
    "    print(\"You are adult.\")\n",
    "    print (\"You can vote.\")\n",
    "elif age<18 and age>3:\n",
    "    print(\"you are Bachha..Go to home!\")\n",
    "print (\"Thank You\")\n"
   ]
  },
  {
   "cell_type": "code",
   "execution_count": 2,
   "id": "fd2178e9",
   "metadata": {},
   "outputs": [
    {
     "name": "stdout",
     "output_type": "stream",
     "text": [
      "you are Bachha..Go to home!\n"
     ]
    }
   ],
   "source": [
    "age = 15\n",
    "if age>=18:\n",
    "    print(\"You are adult.\")\n",
    "    print (\"You can vote.\")\n",
    "elif age<18 and age>3:\n",
    "    print(\"you are Bachha..Go to home!\")\n",
    "else:\n",
    "    print(\"You are a child\")\n",
    "    \n"
   ]
  },
  {
   "cell_type": "code",
   "execution_count": 3,
   "id": "439b1534",
   "metadata": {},
   "outputs": [
    {
     "name": "stdout",
     "output_type": "stream",
     "text": [
      "You are a child\n"
     ]
    }
   ],
   "source": [
    "age = 2\n",
    "if age>=18:\n",
    "    print(\"You are adult.\")\n",
    "    print (\"You can vote.\")\n",
    "elif age<18 and age>3:\n",
    "    print(\"you are Bachha..Go to home!\")\n",
    "else:\n",
    "    print(\"You are a child\")\n",
    "    \n"
   ]
  },
  {
   "cell_type": "code",
   "execution_count": 8,
   "id": "432da12a",
   "metadata": {},
   "outputs": [
    {
     "name": "stdout",
     "output_type": "stream",
     "text": [
      "enter first number :10\n",
      "choose operator (+,-,*,/,%) :+\n",
      "enter second number :10\n",
      "20\n"
     ]
    }
   ],
   "source": [
    "## Building a calculator :\n",
    "\n",
    "first=input(\"enter first number :\")\n",
    "operator=input(\"choose operator (+,-,*,/,%) :\")\n",
    "second=input(\"enter second number :\")\n",
    "\n",
    "first =int(first)\n",
    "second=int(second)\n",
    "\n",
    "if operator == \"+\":\n",
    "    print (first + second)\n",
    "elif operator == \"-\":\n",
    "    print (first - second)\n",
    "elif operator == \"/\":\n",
    "    print (first / second)\n",
    "elif operator == \"*\":\n",
    "    print (first * second)\n",
    "elif operator == \"%\":\n",
    "    print (first % second)\n",
    "else:\n",
    "    print(\"Invalid Operation\")\n"
   ]
  },
  {
   "cell_type": "code",
   "execution_count": 10,
   "id": "c93a85a2",
   "metadata": {},
   "outputs": [
    {
     "name": "stdout",
     "output_type": "stream",
     "text": [
      "range(0, 5)\n"
     ]
    }
   ],
   "source": [
    "# range:\n",
    "\n",
    "\n",
    "no=range(5)\n",
    "print(no)"
   ]
  },
  {
   "cell_type": "code",
   "execution_count": 12,
   "id": "7116675f",
   "metadata": {},
   "outputs": [
    {
     "name": "stdout",
     "output_type": "stream",
     "text": [
      "1\n",
      "2\n",
      "3\n",
      "4\n",
      "5\n",
      "6\n",
      "7\n",
      "8\n",
      "9\n",
      "10\n",
      "11\n",
      "12\n",
      "13\n",
      "14\n",
      "15\n"
     ]
    }
   ],
   "source": [
    "## Loop :\n",
    "\n",
    "#(1) while loop :\n",
    "\n",
    "i=1\n",
    "while i<= 15:\n",
    "    print(i)\n",
    "    i=i+1"
   ]
  },
  {
   "cell_type": "code",
   "execution_count": 3,
   "id": "0f7816b1",
   "metadata": {},
   "outputs": [
    {
     "name": "stdout",
     "output_type": "stream",
     "text": [
      "*\n",
      "**\n",
      "***\n",
      "****\n",
      "*****\n",
      "******\n",
      "*******\n",
      "********\n",
      "*********\n",
      "**********\n"
     ]
    }
   ],
   "source": [
    "i=1\n",
    "while i<= 10:\n",
    "    print(i*\"*\")\n",
    "    i=i+1"
   ]
  },
  {
   "cell_type": "code",
   "execution_count": 4,
   "id": "f7801fed",
   "metadata": {},
   "outputs": [
    {
     "name": "stdout",
     "output_type": "stream",
     "text": [
      "*\n",
      "**\n",
      "***\n",
      "****\n",
      "*****\n",
      "******\n",
      "*******\n",
      "********\n",
      "*********\n",
      "**********\n",
      "**********\n",
      "*********\n",
      "********\n",
      "*******\n",
      "******\n",
      "*****\n",
      "****\n",
      "***\n",
      "**\n",
      "*\n",
      "\n"
     ]
    }
   ],
   "source": [
    "i=1\n",
    "while i<= 10:\n",
    "    print(i*\"*\")\n",
    "    i=i+1\n",
    "i=10\n",
    "while i>= 0:\n",
    "    print(i*\"*\")\n",
    "    i=i-1"
   ]
  },
  {
   "cell_type": "code",
   "execution_count": 18,
   "id": "1f78df21",
   "metadata": {},
   "outputs": [
    {
     "name": "stdout",
     "output_type": "stream",
     "text": [
      "**********\n",
      "*********\n",
      "********\n",
      "*******\n",
      "******\n",
      "*****\n",
      "****\n",
      "***\n",
      "**\n",
      "*\n",
      "\n"
     ]
    }
   ],
   "source": [
    "i=10\n",
    "while i>= 0:\n",
    "    print(i*\"*\")\n",
    "    i=i-1"
   ]
  },
  {
   "cell_type": "code",
   "execution_count": 20,
   "id": "012ea91a",
   "metadata": {},
   "outputs": [
    {
     "name": "stdout",
     "output_type": "stream",
     "text": [
      "O\n",
      "OO\n",
      "OOO\n",
      "OOOO\n",
      "OOOOO\n",
      "OOOOOO\n",
      "OOOOOOO\n",
      "OOOOOOOO\n",
      "OOOOOOOOO\n",
      "OOOOOOOOOO\n"
     ]
    }
   ],
   "source": [
    "i=1\n",
    "while i<= 10:\n",
    "    print(i*\"O\")\n",
    "    i=i+1"
   ]
  },
  {
   "cell_type": "code",
   "execution_count": 22,
   "id": "c8912fb5",
   "metadata": {},
   "outputs": [
    {
     "name": "stdout",
     "output_type": "stream",
     "text": [
      "OOOOOOOOOO\n",
      "OOOOOOOOO\n",
      "OOOOOOOO\n",
      "OOOOOOO\n",
      "OOOOOO\n",
      "OOOOO\n",
      "OOOO\n",
      "OOO\n",
      "OO\n",
      "O\n",
      "\n"
     ]
    }
   ],
   "source": [
    "i=10\n",
    "while i>= 0:\n",
    "    print(i*\"O\")\n",
    "    i=i-1"
   ]
  },
  {
   "cell_type": "code",
   "execution_count": 23,
   "id": "c4a078a3",
   "metadata": {},
   "outputs": [
    {
     "name": "stdout",
     "output_type": "stream",
     "text": [
      "0\n",
      "1\n",
      "2\n",
      "3\n",
      "4\n"
     ]
    }
   ],
   "source": [
    "#(2) for Loops :\n",
    "\n",
    "\n",
    "for i in range(5):\n",
    "    print(i)"
   ]
  },
  {
   "cell_type": "code",
   "execution_count": 25,
   "id": "8c9c0dc1",
   "metadata": {},
   "outputs": [
    {
     "name": "stdout",
     "output_type": "stream",
     "text": [
      "[20, 22, 25]\n"
     ]
    }
   ],
   "source": [
    "## List :\n",
    "\n",
    "\n",
    "marks=[20,22,25]\n",
    "print(marks)"
   ]
  },
  {
   "cell_type": "code",
   "execution_count": 27,
   "id": "3c1046aa",
   "metadata": {},
   "outputs": [
    {
     "name": "stdout",
     "output_type": "stream",
     "text": [
      "[20, 22, 25, 50]\n"
     ]
    }
   ],
   "source": [
    "marks=[20,22,25]\n",
    "marks.append(50)\n",
    "print(marks)\n"
   ]
  },
  {
   "cell_type": "code",
   "execution_count": null,
   "id": "bb47bf79",
   "metadata": {},
   "outputs": [],
   "source": []
  }
 ],
 "metadata": {
  "kernelspec": {
   "display_name": "Python 3 (ipykernel)",
   "language": "python",
   "name": "python3"
  },
  "language_info": {
   "codemirror_mode": {
    "name": "ipython",
    "version": 3
   },
   "file_extension": ".py",
   "mimetype": "text/x-python",
   "name": "python",
   "nbconvert_exporter": "python",
   "pygments_lexer": "ipython3",
   "version": "3.11.4"
  }
 },
 "nbformat": 4,
 "nbformat_minor": 5
}
