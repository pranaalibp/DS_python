{
 "cells": [
  {
   "cell_type": "markdown",
   "id": "3e499a01",
   "metadata": {},
   "source": [
    "# BASIC STATS 2"
   ]
  },
  {
   "cell_type": "markdown",
   "id": "5f7ad965",
   "metadata": {},
   "source": [
    "## Estimation and Confidance Intervals -"
   ]
  },
  {
   "cell_type": "markdown",
   "id": "32773042",
   "metadata": {},
   "source": [
    "Data\n",
    "\n",
    "A total of 15 print-heads were randomly selected and tested until failure. The durability of each print-head (in millions of characters) was recorded as follows:\n",
    "\n",
    "1,13, 1.55, 1.43, 0.92, 1.25, 1.36, 1,32, 0.85, 1.07, 1.45, 1.20, 1.33, 1.18, 1.22, 1.29\n"
   ]
  },
  {
   "cell_type": "markdown",
   "id": "f55d9d53",
   "metadata": {},
   "source": [
    "#### ASSIGNMENT TASKS"
   ]
  },
  {
   "cell_type": "markdown",
   "id": "ddf0854a",
   "metadata": {},
   "source": [
    "\n",
    "a. Build 99% Confidence Interval Using Sample Standard Deviation\n",
    "\n",
    "\n",
    "Assuming the sample is representative of the population, construct a 99% confidence interval for the mean number of characters printed before the print-head fails using the sample standard deviation. Explain the steps you take and the rationale behind using the t-distribution for this task\n",
    "\n",
    "b. Build 99% Confidence Interval Using Known Population Standard Deviation\n",
    "\n",
    "\n",
    "It it were known that the population standard deviation is 0.2 million characters, construct a 99% confidence interval for the mean number of characters printed before failure.\n"
   ]
  },
  {
   "cell_type": "code",
   "execution_count": 1,
   "id": "b55c41c1",
   "metadata": {},
   "outputs": [
    {
     "name": "stdout",
     "output_type": "stream",
     "text": [
      "Mean: 1.96375\n",
      "Standard Deviation: 2.9492482092899537\n",
      "Margin of Error: 2.1726469236195114\n",
      "99% Confidence Interval: (-0.2088969236195113, 4.136396923619511)\n"
     ]
    }
   ],
   "source": [
    "import numpy as np\n",
    "from scipy.stats import t\n",
    "\n",
    "data = np.array([1, 13, 1.55, 1.43, 0.92, 1.25, 1.36, 1.32, 0.85, 1.07, 1.45, 1.20, 1.33, 1.18, 1.22, 1.29])\n",
    "\n",
    "# Calculate the sample mean and standard deviation\n",
    "mean = np.mean(data)\n",
    "std_dev = np.std(data, ddof=1)  \n",
    "\n",
    "# Calculate the t-value for a 99% confidence interval\n",
    "t_value = t.ppf(0.995, df=len(data)-1)  # Two-tailed test, hence 0.995\n",
    "\n",
    "# Calculate the margin of error\n",
    "margin_of_error = t_value * (std_dev / np.sqrt(len(data)))\n",
    "\n",
    "# Calculate the confidence interval\n",
    "confidence_interval = (mean - margin_of_error, mean + margin_of_error)\n",
    "\n",
    "print(\"Mean:\", mean)\n",
    "print(\"Standard Deviation:\", std_dev)\n",
    "print(\"Margin of Error:\", margin_of_error)\n",
    "print(\"99% Confidence Interval:\", confidence_interval)\n"
   ]
  },
  {
   "cell_type": "code",
   "execution_count": null,
   "id": "dde7cd9d",
   "metadata": {},
   "outputs": [],
   "source": []
  },
  {
   "cell_type": "code",
   "execution_count": 2,
   "id": "c64173b0",
   "metadata": {},
   "outputs": [
    {
     "name": "stdout",
     "output_type": "stream",
     "text": [
      "Mean: 1.96375\n",
      "Population Standard Deviation: 0.2\n",
      "Margin of Error: 0.1288\n",
      "99% Confidence Interval: (1.83495, 2.09255)\n"
     ]
    }
   ],
   "source": [
    "\n",
    "data = np.array([1, 13, 1.55, 1.43, 0.92, 1.25, 1.36, 1.32, 0.85, 1.07, 1.45, 1.20, 1.33, 1.18, 1.22, 1.29])\n",
    "\n",
    "# Known population standard deviation\n",
    "population_std_dev = 0.2\n",
    "\n",
    "# Sample size\n",
    "n = len(data)\n",
    "\n",
    "# Calculate the sample mean\n",
    "mean = np.mean(data)\n",
    "\n",
    "# Z-value for 99% confidence level\n",
    "z_value = 2.576  # From z-table for 99% confidence level\n",
    "\n",
    "# Calculate the margin of error\n",
    "margin_of_error = z_value * (population_std_dev / np.sqrt(n))\n",
    "\n",
    "# Calculate the confidence interval\n",
    "confidence_interval = (mean - margin_of_error, mean + margin_of_error)\n",
    "\n",
    "print(\"Mean:\", mean)\n",
    "print(\"Population Standard Deviation:\", population_std_dev)\n",
    "print(\"Margin of Error:\", margin_of_error)\n",
    "print(\"99% Confidence Interval:\", confidence_interval)\n"
   ]
  },
  {
   "cell_type": "code",
   "execution_count": null,
   "id": "a9b698cc",
   "metadata": {},
   "outputs": [],
   "source": []
  }
 ],
 "metadata": {
  "kernelspec": {
   "display_name": "Python 3 (ipykernel)",
   "language": "python",
   "name": "python3"
  },
  "language_info": {
   "codemirror_mode": {
    "name": "ipython",
    "version": 3
   },
   "file_extension": ".py",
   "mimetype": "text/x-python",
   "name": "python",
   "nbconvert_exporter": "python",
   "pygments_lexer": "ipython3",
   "version": "3.11.4"
  }
 },
 "nbformat": 4,
 "nbformat_minor": 5
}
