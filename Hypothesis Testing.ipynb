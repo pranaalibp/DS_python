{
 "cells": [
  {
   "cell_type": "markdown",
   "id": "b2eecdc1",
   "metadata": {},
   "source": [
    "# 1) HYPOTHESIS TESTING -"
   ]
  },
  {
   "cell_type": "markdown",
   "id": "9bd9071e",
   "metadata": {},
   "source": [
    "## Assignment Tasks :"
   ]
  },
  {
   "cell_type": "markdown",
   "id": "f73a217f",
   "metadata": {},
   "source": [
    "#### Data Provided :\n",
    "\n",
    "•\tThe theoretical weekly operating cost model: W = $1,000 + $5X\n",
    "\n",
    "•\tSample of 25 restaurants with a mean weekly cost of Rs. 3,050\n",
    "\n",
    "•\tNumber of units produced in a week (X) follows a normal distribution with a mean (μ) of 600 units and a standard deviation (σ) of 25 units\n"
   ]
  },
  {
   "cell_type": "markdown",
   "id": "e329ada8",
   "metadata": {},
   "source": [
    "##### 1. State the Hypotheses statement:"
   ]
  },
  {
   "cell_type": "markdown",
   "id": "dd336427",
   "metadata": {},
   "source": [
    "##### Solution :\n",
    "The hypotheses statements for this scenario can be framed as follows:\n",
    "\n",
    "Null Hypothesis (H0): The theoretical weekly operating cost model is accurate, and the observed higher costs are due to random variation or other factors not accounted for in the model. Mathematically, this can be represented as:\n",
    "\n",
    "\n",
    "𝐻\n",
    "0\n",
    ":\n",
    "𝑊\n",
    "=\n",
    "1000\n",
    "+\n",
    "5\n",
    "𝑋\n",
    "\n",
    " \n",
    " Alternative Hypothesis (H1): The theoretical weekly operating cost model is not accurate, and the observed higher costs are significant and can be attributed to a change in the operating cost structure. Mathematically, this can be represented as:\n",
    "\n",
    "\n",
    "H \n",
    "1\n",
    "​\n",
    " : W>1000+5X\n",
    "\n",
    "Where:\n",
    "\n",
    "\n",
    "W is the observed mean weekly cost (given as $3050),\n",
    "𝑋\n",
    "X is the number of units produced in a week,\n",
    "1000\n",
    "+\n",
    "5\n",
    "𝑋\n",
    "1000+5X is the theoretical weekly operating cost model.\n",
    "\n",
    "\n",
    "\n",
    "\n"
   ]
  },
  {
   "cell_type": "markdown",
   "id": "29083bae",
   "metadata": {},
   "source": [
    " ##### 2.  Calculate the Test Statistic:\n",
    "Use the following formula to calculate the test statistic (t):\n",
    "where:\n",
    "\n",
    "•\tˉxˉ = sample mean weekly cost (Rs. 3,050)\n",
    "\n",
    "•\tμ = theoretical mean weekly cost according to the cost model (W = $1,000 + $5X for X = 600 units)\n",
    "\n",
    "•\tσ = 5*25 units\n",
    "\n",
    "•\tn = sample size (25 restaurants)\n"
   ]
  },
  {
   "cell_type": "markdown",
   "id": "d48c790f",
   "metadata": {},
   "source": [
    "#### Solution :"
   ]
  },
  {
   "cell_type": "markdown",
   "id": "6ecff6e9",
   "metadata": {},
   "source": [
    "The formula for calculating the test statistic / in this scenario is:\n",
    "\n",
    "\n",
    "t = (x - mu)/(sigma/(sqrt(n)))\n",
    "\n",
    "Where:\n",
    "\n",
    "* is the sample mean weekly cost (Rs. 3,050),\n",
    "\n",
    "  is the theoretical mean weekly cost according to the cost model (\\$1,000+\\$ 5X for X = 600 units),\n",
    "\n",
    "  a is the standard deviation of the number of units produced in a week ( 5 ^ * 25units)\n",
    "\n",
    "  n is the sample size (25 restaurants).\n",
    "\n",
    "Plugging in the values:\n",
    "\n",
    "t = (3050(1000 + 5 * 600))/((5 - 75)/(sqrt(25)))\n",
    "\n",
    "t = (3050 * 4000)/(125/5)\n",
    "\n",
    "t = 950/25\n",
    "\n",
    "t = -38\n",
    "\n",
    "So the test statistic t is  -38."
   ]
  },
  {
   "cell_type": "markdown",
   "id": "d811733c",
   "metadata": {},
   "source": [
    "#### 3. Determine the Critical Value :"
   ]
  },
  {
   "cell_type": "markdown",
   "id": "3b7300cf",
   "metadata": {},
   "source": [
    "Using the alpha level of 5% (α = 0.05), determine the critical value from the standard normal (Z) distribution table"
   ]
  },
  {
   "cell_type": "markdown",
   "id": "c1e711bc",
   "metadata": {},
   "source": [
    "###### Solution :"
   ]
  },
  {
   "cell_type": "markdown",
   "id": "84ed6d65",
   "metadata": {},
   "source": [
    "To determine the critical value from the standard normal (Z) distribution table for an alpha level of 5% (α = 0.05), we look for the value of Z that corresponds to a cumulative probability of 0.95 (since the critical region is in the upper tail).\n",
    "\n",
    "In standard normal distribution tables, the value of Z for a cumulative probability of 0.95 is approximately 1.645.\n",
    "\n",
    "Therefore, the critical value for this hypothesis test is 1.645. If the calculated test statistic falls in the rejection region (greater than 1.645), we reject the null hypothesis.\n",
    "\n",
    "\n",
    "\n",
    "\n",
    "\n"
   ]
  },
  {
   "cell_type": "markdown",
   "id": "ca1ec867",
   "metadata": {},
   "source": [
    "#### 4. Make a Decision:\n",
    "\n",
    "\n",
    "Compare the test statistic with the critical value to decide whether to reject the null hypothesis.\n"
   ]
  },
  {
   "cell_type": "markdown",
   "id": "9e572e96",
   "metadata": {},
   "source": [
    "##### Solution :"
   ]
  },
  {
   "cell_type": "markdown",
   "id": "eb0eebdb",
   "metadata": {},
   "source": [
    "To make a decision, we compare the test statistic with the critical value:\n",
    "\n",
    "Test Statistic is \n",
    " t = −38\n",
    "\n",
    "Critical Value (for a one-tailed test with alpha = 0.05) \n",
    "\n",
    "\n",
    "𝑧 =\n",
    "1.645\n",
    "\n",
    "\n",
    "here, t = −38 is far less than the critical value, z = 1.645\n",
    "\n",
    "as z = 1.645, we reject the null hypothesis. This means that there is sufficient evidence to suggest that the observed higher costs are not due to random variation and that the theoretical weekly operating cost model may no longer be accurate."
   ]
  },
  {
   "cell_type": "markdown",
   "id": "5cf533ed",
   "metadata": {},
   "source": [
    "#### 5. Conclusion :\n",
    "\n",
    "Based on the decision in step 4, conclude whether there is strong evidence to support the restaurant owners' claim that the weekly operating costs are higher than the model suggests.\n"
   ]
  },
  {
   "cell_type": "markdown",
   "id": "b07bc95e",
   "metadata": {},
   "source": [
    "##### Solution : \n",
    "    \n",
    " we rejected the null hypothesis, we can conclude that there is strong evidence to support the restaurant owners' claim that the weekly operating costs are higher than the model suggests. The observed mean weekly cost of Rs. 3,050 is significantly higher than the theoretical mean cost predicted by the model, indicating that there may be other factors or changes in the cost structure that are leading to the higher costs."
   ]
  },
  {
   "cell_type": "code",
   "execution_count": null,
   "id": "bff7ce35",
   "metadata": {},
   "outputs": [],
   "source": []
  },
  {
   "cell_type": "markdown",
   "id": "66eb057b",
   "metadata": {},
   "source": [
    "# 2) CHI-SQUARE TEST -"
   ]
  },
  {
   "cell_type": "markdown",
   "id": "ebdee44e",
   "metadata": {},
   "source": [
    "##### Data Provided :\n",
    "\n",
    "The data is summarized in a contingency table showing the counts of customers in each satisfaction level for both types of devices:\n",
    "\n",
    "Satisfaction\tSmart Thermostat\tSmart Light\tTotal\n",
    "\n",
    "Very Satisfied\t50\t70\t120\n",
    "\n",
    "Satisfied\t80\t100\t180\n",
    "\n",
    "Neutral\t60\t90\t150\n",
    "\n",
    "Unsatisfied\t30\t50\t80\n",
    "\n",
    "Very Unsatisfied\t20\t50\t70\n",
    "\n",
    "Total\t240\t360\t600\n"
   ]
  },
  {
   "cell_type": "markdown",
   "id": "b454593f",
   "metadata": {},
   "source": [
    "### Assignment Tasks :\n",
    "\n",
    "###### 1. State the Hypotheses:\n"
   ]
  },
  {
   "cell_type": "markdown",
   "id": "6febb528",
   "metadata": {},
   "source": [
    "##### Solution :\n",
    "Hypotheses:\n",
    "\n",
    "\n",
    "Null Hypothesis (H0):   There is no association between the type of smart home device (Smart Thermostats and Smart Lights) and customer satisfaction level.\n",
    "\n",
    "Alternative Hypothesis (H1):   There is a significant association between the type of smart home device and customer satisfaction level."
   ]
  },
  {
   "cell_type": "markdown",
   "id": "9f17412a",
   "metadata": {},
   "source": [
    "###### 2. Compute the Chi-Square Statistic:"
   ]
  },
  {
   "cell_type": "code",
   "execution_count": 1,
   "id": "bb451f50",
   "metadata": {},
   "outputs": [
    {
     "name": "stdout",
     "output_type": "stream",
     "text": [
      "Chi-Square Statistic: 5.638227513227513\n"
     ]
    }
   ],
   "source": [
    "import numpy as np\n",
    "\n",
    "# Observed frequencies\n",
    "observed = np.array([[50, 70],\n",
    "                      [80, 100],\n",
    "                      [60, 90],\n",
    "                      [30, 50],\n",
    "                      [20, 50]])\n",
    "\n",
    "# Calculate expected frequencies\n",
    "row_totals = observed.sum(axis=1)\n",
    "col_totals = observed.sum(axis=0)\n",
    "grand_total = row_totals.sum()\n",
    "\n",
    "expected = np.outer(row_totals, col_totals) / grand_total\n",
    "\n",
    "# Calculate chi-square contribution for each cell\n",
    "chi_square_contrib = ((observed - expected)**2 / expected)\n",
    "\n",
    "# Calculate chi-square statistic\n",
    "chi_square_statistic = chi_square_contrib.sum()\n",
    "\n",
    "print(\"Chi-Square Statistic:\", chi_square_statistic)\n"
   ]
  },
  {
   "cell_type": "markdown",
   "id": "d4065eda",
   "metadata": {},
   "source": [
    "###### 3. Determine the Critical Value:\n",
    "    \n",
    "Using the significance level (alpha) of 0.05 and the degrees of freedom (which is the number of categories minus 1)"
   ]
  },
  {
   "cell_type": "markdown",
   "id": "60cfc739",
   "metadata": {},
   "source": [
    "##### Solution :\n",
    "\n",
    "To determine the critical value for the chi-square statistic, we need to consider the degrees of freedom and the desired level of significance (alpha).\n",
    "\n",
    "The degrees of freedom for a chi-square test of independence is calculated as:\n",
    "\n",
    "df = (r−1) × (c−1)\n",
    "\n",
    "Where:\n",
    "\n",
    "𝑟\n",
    "r is the number of rows in the contingency table.\n",
    "𝑐\n",
    "c is the number of columns in the contingency table.\n",
    "In this case, \n",
    "\n",
    "r = 5 (number of satisfaction levels) and \n",
    "\n",
    "c = 2 (number of device types), so \n",
    "\n",
    "\n",
    "df = (5−1) × (2−1) = 4.\n",
    "\n",
    "For an alpha level of 0.05, we look up the critical value in the chi-square distribution table with 4 degrees of freedom. The critical value for a one-tailed test with alpha = 0.05 is approximately 9.488.\n",
    "\n",
    "\n",
    "\n",
    "\n",
    "\n",
    "\n",
    "\n",
    "\n"
   ]
  },
  {
   "cell_type": "markdown",
   "id": "379bddc8",
   "metadata": {},
   "source": [
    "###### 4. Make a Decision:\n",
    "    \n",
    "Compare the Chi-Square statistic with the critical value to decide whether to reject the null hypothesis."
   ]
  },
  {
   "cell_type": "markdown",
   "id": "a269c8c8",
   "metadata": {},
   "source": [
    "##### Solution :\n",
    "\n",
    "The calculated chi-square statistic is less than the critical value (i.e., \n",
    "𝜒\n",
    "2\n",
    "<\n",
    "9.488 ), \n",
    "we do not reject the null hypothesis. This means that there is not enough evidence to conclude that there is a significant association between the type of smart home device and customer satisfaction level."
   ]
  },
  {
   "cell_type": "code",
   "execution_count": null,
   "id": "029ee548",
   "metadata": {},
   "outputs": [],
   "source": []
  }
 ],
 "metadata": {
  "kernelspec": {
   "display_name": "Python 3 (ipykernel)",
   "language": "python",
   "name": "python3"
  },
  "language_info": {
   "codemirror_mode": {
    "name": "ipython",
    "version": 3
   },
   "file_extension": ".py",
   "mimetype": "text/x-python",
   "name": "python",
   "nbconvert_exporter": "python",
   "pygments_lexer": "ipython3",
   "version": "3.11.4"
  }
 },
 "nbformat": 4,
 "nbformat_minor": 5
}
