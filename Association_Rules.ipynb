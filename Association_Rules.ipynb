{
 "cells": [
  {
   "cell_type": "markdown",
   "id": "d6eb650a",
   "metadata": {},
   "source": [
    "# ASSOCIATION RULES"
   ]
  },
  {
   "cell_type": "code",
   "execution_count": null,
   "id": "bb0b6524",
   "metadata": {},
   "outputs": [],
   "source": []
  },
  {
   "cell_type": "code",
   "execution_count": null,
   "id": "091cd7d0",
   "metadata": {},
   "outputs": [],
   "source": []
  },
  {
   "cell_type": "markdown",
   "id": "4184cc8d",
   "metadata": {},
   "source": [
    "### Dataset:\n",
    "\n",
    "\n",
    "Use the Online retail dataset to apply the association rules.\n"
   ]
  },
  {
   "cell_type": "markdown",
   "id": "e12b07cf",
   "metadata": {},
   "source": [
    "#### Pre-process -\n",
    "\n",
    "- Pre-processthe dataset to ensure it is suitable for Association rules, this may include handling missing values, removing duplicates, and converting the data to appropriate format. "
   ]
  },
  {
   "cell_type": "markdown",
   "id": "261d2578",
   "metadata": {},
   "source": [
    "#### Association Rule Mining:\n",
    "\n",
    "• Implement an Apriori algorithm using tool like python with libraries such as Pandas and Mlxtend etc.\n",
    "\n",
    "\n",
    "• Apply association rule mining techniques to the pre-processed dataset to discover interesting relationships between products purchased together.\n",
    "\n",
    "\n",
    "\n",
    "• Set appropriate threshold for support, confidence and lift to extract meaning full rules.\n",
    "\n",
    "\n",
    "#### Analysis and Interpretation :\n",
    "\n",
    "\n",
    "\n",
    "• Analyse the generated rules to identify interesting patterns and relationships between the products.\n",
    "\n",
    "\n",
    "\n",
    "• Interpret the results and provide insights into customer purchasing behaviour based on the discovered rules.\n",
    "\n",
    "\n",
    "\n",
    " #### Insights into Customer (Passenger) Behavior"
   ]
  },
  {
   "cell_type": "code",
   "execution_count": null,
   "id": "ad558ea2",
   "metadata": {},
   "outputs": [],
   "source": []
  },
  {
   "cell_type": "markdown",
   "id": "dea86b3f",
   "metadata": {},
   "source": [
    "### Pre-process the Data"
   ]
  },
  {
   "cell_type": "code",
   "execution_count": 1,
   "id": "0996fcac",
   "metadata": {},
   "outputs": [
    {
     "name": "stdout",
     "output_type": "stream",
     "text": [
      "<class 'pandas.core.frame.DataFrame'>\n",
      "RangeIndex: 7500 entries, 0 to 7499\n",
      "Data columns (total 1 columns):\n",
      " #   Column                                                                                                                                                                                                                           Non-Null Count  Dtype \n",
      "---  ------                                                                                                                                                                                                                           --------------  ----- \n",
      " 0   shrimp,almonds,avocado,vegetables mix,green grapes,whole weat flour,yams,cottage cheese,energy drink,tomato juice,low fat yogurt,green tea,honey,salad,mineral water,salmon,antioxydant juice,frozen smoothie,spinach,olive oil  7500 non-null   object\n",
      "dtypes: object(1)\n",
      "memory usage: 58.7+ KB\n"
     ]
    }
   ],
   "source": [
    "import pandas as pd\n",
    "\n",
    "\n",
    "# Load the dataset\n",
    "df = pd.read_excel('Online Retail.xlsx')\n",
    "\n",
    "# Display basic information about the dataset\n",
    "df.info()"
   ]
  },
  {
   "cell_type": "code",
   "execution_count": 2,
   "id": "055ded46",
   "metadata": {},
   "outputs": [
    {
     "data": {
      "text/html": [
       "<div>\n",
       "<style scoped>\n",
       "    .dataframe tbody tr th:only-of-type {\n",
       "        vertical-align: middle;\n",
       "    }\n",
       "\n",
       "    .dataframe tbody tr th {\n",
       "        vertical-align: top;\n",
       "    }\n",
       "\n",
       "    .dataframe thead th {\n",
       "        text-align: right;\n",
       "    }\n",
       "</style>\n",
       "<table border=\"1\" class=\"dataframe\">\n",
       "  <thead>\n",
       "    <tr style=\"text-align: right;\">\n",
       "      <th></th>\n",
       "      <th>shrimp,almonds,avocado,vegetables mix,green grapes,whole weat flour,yams,cottage cheese,energy drink,tomato juice,low fat yogurt,green tea,honey,salad,mineral water,salmon,antioxydant juice,frozen smoothie,spinach,olive oil</th>\n",
       "    </tr>\n",
       "  </thead>\n",
       "  <tbody>\n",
       "    <tr>\n",
       "      <th>0</th>\n",
       "      <td>burgers,meatballs,eggs</td>\n",
       "    </tr>\n",
       "    <tr>\n",
       "      <th>1</th>\n",
       "      <td>chutney</td>\n",
       "    </tr>\n",
       "    <tr>\n",
       "      <th>2</th>\n",
       "      <td>turkey,avocado</td>\n",
       "    </tr>\n",
       "    <tr>\n",
       "      <th>3</th>\n",
       "      <td>mineral water,milk,energy bar,whole wheat rice...</td>\n",
       "    </tr>\n",
       "    <tr>\n",
       "      <th>4</th>\n",
       "      <td>low fat yogurt</td>\n",
       "    </tr>\n",
       "    <tr>\n",
       "      <th>...</th>\n",
       "      <td>...</td>\n",
       "    </tr>\n",
       "    <tr>\n",
       "      <th>7495</th>\n",
       "      <td>butter,light mayo,fresh bread</td>\n",
       "    </tr>\n",
       "    <tr>\n",
       "      <th>7496</th>\n",
       "      <td>burgers,frozen vegetables,eggs,french fries,ma...</td>\n",
       "    </tr>\n",
       "    <tr>\n",
       "      <th>7497</th>\n",
       "      <td>chicken</td>\n",
       "    </tr>\n",
       "    <tr>\n",
       "      <th>7498</th>\n",
       "      <td>escalope,green tea</td>\n",
       "    </tr>\n",
       "    <tr>\n",
       "      <th>7499</th>\n",
       "      <td>eggs,frozen smoothie,yogurt cake,low fat yogurt</td>\n",
       "    </tr>\n",
       "  </tbody>\n",
       "</table>\n",
       "<p>7500 rows × 1 columns</p>\n",
       "</div>"
      ],
      "text/plain": [
       "     shrimp,almonds,avocado,vegetables mix,green grapes,whole weat flour,yams,cottage cheese,energy drink,tomato juice,low fat yogurt,green tea,honey,salad,mineral water,salmon,antioxydant juice,frozen smoothie,spinach,olive oil\n",
       "0                                burgers,meatballs,eggs                                                                                                                                                                             \n",
       "1                                               chutney                                                                                                                                                                             \n",
       "2                                        turkey,avocado                                                                                                                                                                             \n",
       "3     mineral water,milk,energy bar,whole wheat rice...                                                                                                                                                                             \n",
       "4                                        low fat yogurt                                                                                                                                                                             \n",
       "...                                                 ...                                                                                                                                                                             \n",
       "7495                      butter,light mayo,fresh bread                                                                                                                                                                             \n",
       "7496  burgers,frozen vegetables,eggs,french fries,ma...                                                                                                                                                                             \n",
       "7497                                            chicken                                                                                                                                                                             \n",
       "7498                                 escalope,green tea                                                                                                                                                                             \n",
       "7499    eggs,frozen smoothie,yogurt cake,low fat yogurt                                                                                                                                                                             \n",
       "\n",
       "[7500 rows x 1 columns]"
      ]
     },
     "execution_count": 2,
     "metadata": {},
     "output_type": "execute_result"
    }
   ],
   "source": [
    "df.head(7500)"
   ]
  },
  {
   "cell_type": "code",
   "execution_count": null,
   "id": "48983255",
   "metadata": {},
   "outputs": [],
   "source": []
  },
  {
   "cell_type": "code",
   "execution_count": 3,
   "id": "4427214f",
   "metadata": {},
   "outputs": [],
   "source": [
    "df.columns = ['Transaction']\n"
   ]
  },
  {
   "cell_type": "code",
   "execution_count": 4,
   "id": "18b0d529",
   "metadata": {},
   "outputs": [
    {
     "data": {
      "text/html": [
       "<div>\n",
       "<style scoped>\n",
       "    .dataframe tbody tr th:only-of-type {\n",
       "        vertical-align: middle;\n",
       "    }\n",
       "\n",
       "    .dataframe tbody tr th {\n",
       "        vertical-align: top;\n",
       "    }\n",
       "\n",
       "    .dataframe thead th {\n",
       "        text-align: right;\n",
       "    }\n",
       "</style>\n",
       "<table border=\"1\" class=\"dataframe\">\n",
       "  <thead>\n",
       "    <tr style=\"text-align: right;\">\n",
       "      <th></th>\n",
       "      <th>Transaction</th>\n",
       "    </tr>\n",
       "  </thead>\n",
       "  <tbody>\n",
       "    <tr>\n",
       "      <th>0</th>\n",
       "      <td>burgers,meatballs,eggs</td>\n",
       "    </tr>\n",
       "    <tr>\n",
       "      <th>1</th>\n",
       "      <td>chutney</td>\n",
       "    </tr>\n",
       "    <tr>\n",
       "      <th>2</th>\n",
       "      <td>turkey,avocado</td>\n",
       "    </tr>\n",
       "    <tr>\n",
       "      <th>3</th>\n",
       "      <td>mineral water,milk,energy bar,whole wheat rice...</td>\n",
       "    </tr>\n",
       "    <tr>\n",
       "      <th>4</th>\n",
       "      <td>low fat yogurt</td>\n",
       "    </tr>\n",
       "  </tbody>\n",
       "</table>\n",
       "</div>"
      ],
      "text/plain": [
       "                                         Transaction\n",
       "0                             burgers,meatballs,eggs\n",
       "1                                            chutney\n",
       "2                                     turkey,avocado\n",
       "3  mineral water,milk,energy bar,whole wheat rice...\n",
       "4                                     low fat yogurt"
      ]
     },
     "execution_count": 4,
     "metadata": {},
     "output_type": "execute_result"
    }
   ],
   "source": [
    "df.head()"
   ]
  },
  {
   "cell_type": "code",
   "execution_count": null,
   "id": "37a9fe88",
   "metadata": {},
   "outputs": [],
   "source": []
  },
  {
   "cell_type": "code",
   "execution_count": 5,
   "id": "9810f45f",
   "metadata": {},
   "outputs": [],
   "source": [
    "# Transform the data into a list of lists\n",
    "transactions = df['Transaction'].apply(lambda x: x.split(','))"
   ]
  },
  {
   "cell_type": "code",
   "execution_count": 6,
   "id": "df8ca188",
   "metadata": {},
   "outputs": [
    {
     "data": {
      "text/plain": [
       "0                           [burgers, meatballs, eggs]\n",
       "1                                            [chutney]\n",
       "2                                    [turkey, avocado]\n",
       "3    [mineral water, milk, energy bar, whole wheat ...\n",
       "4                                     [low fat yogurt]\n",
       "Name: Transaction, dtype: object"
      ]
     },
     "execution_count": 6,
     "metadata": {},
     "output_type": "execute_result"
    }
   ],
   "source": [
    "transactions.head()"
   ]
  },
  {
   "cell_type": "code",
   "execution_count": null,
   "id": "fb378c4c",
   "metadata": {},
   "outputs": [],
   "source": []
  },
  {
   "cell_type": "markdown",
   "id": "3456228d",
   "metadata": {},
   "source": [
    "### Association Rule Mining -"
   ]
  },
  {
   "cell_type": "code",
   "execution_count": 7,
   "id": "6e99c257",
   "metadata": {
    "collapsed": true
   },
   "outputs": [
    {
     "name": "stdout",
     "output_type": "stream",
     "text": [
      "Requirement already satisfied: mlxtend in c:\\users\\prana\\anaconda3\\lib\\site-packages (0.23.1)\n",
      "Requirement already satisfied: scipy>=1.2.1 in c:\\users\\prana\\anaconda3\\lib\\site-packages (from mlxtend) (1.10.1)\n",
      "Requirement already satisfied: numpy>=1.16.2 in c:\\users\\prana\\anaconda3\\lib\\site-packages (from mlxtend) (1.24.3)\n",
      "Requirement already satisfied: pandas>=0.24.2 in c:\\users\\prana\\anaconda3\\lib\\site-packages (from mlxtend) (1.5.3)\n",
      "Requirement already satisfied: scikit-learn>=1.0.2 in c:\\users\\prana\\anaconda3\\lib\\site-packages (from mlxtend) (1.4.2)\n",
      "Requirement already satisfied: matplotlib>=3.0.0 in c:\\users\\prana\\anaconda3\\lib\\site-packages (from mlxtend) (3.7.1)\n",
      "Requirement already satisfied: joblib>=0.13.2 in c:\\users\\prana\\anaconda3\\lib\\site-packages (from mlxtend) (1.4.2)\n",
      "Requirement already satisfied: contourpy>=1.0.1 in c:\\users\\prana\\anaconda3\\lib\\site-packages (from matplotlib>=3.0.0->mlxtend) (1.0.5)\n",
      "Requirement already satisfied: cycler>=0.10 in c:\\users\\prana\\anaconda3\\lib\\site-packages (from matplotlib>=3.0.0->mlxtend) (0.11.0)\n",
      "Requirement already satisfied: fonttools>=4.22.0 in c:\\users\\prana\\anaconda3\\lib\\site-packages (from matplotlib>=3.0.0->mlxtend) (4.25.0)\n",
      "Requirement already satisfied: kiwisolver>=1.0.1 in c:\\users\\prana\\anaconda3\\lib\\site-packages (from matplotlib>=3.0.0->mlxtend) (1.4.4)\n",
      "Requirement already satisfied: packaging>=20.0 in c:\\users\\prana\\anaconda3\\lib\\site-packages (from matplotlib>=3.0.0->mlxtend) (23.0)\n",
      "Requirement already satisfied: pillow>=6.2.0 in c:\\users\\prana\\anaconda3\\lib\\site-packages (from matplotlib>=3.0.0->mlxtend) (9.4.0)\n",
      "Requirement already satisfied: pyparsing>=2.3.1 in c:\\users\\prana\\anaconda3\\lib\\site-packages (from matplotlib>=3.0.0->mlxtend) (3.0.9)\n",
      "Requirement already satisfied: python-dateutil>=2.7 in c:\\users\\prana\\anaconda3\\lib\\site-packages (from matplotlib>=3.0.0->mlxtend) (2.8.2)\n",
      "Requirement already satisfied: pytz>=2020.1 in c:\\users\\prana\\anaconda3\\lib\\site-packages (from pandas>=0.24.2->mlxtend) (2022.7)\n",
      "Requirement already satisfied: threadpoolctl>=2.0.0 in c:\\users\\prana\\anaconda3\\lib\\site-packages (from scikit-learn>=1.0.2->mlxtend) (2.2.0)\n",
      "Requirement already satisfied: six>=1.5 in c:\\users\\prana\\anaconda3\\lib\\site-packages (from python-dateutil>=2.7->matplotlib>=3.0.0->mlxtend) (1.16.0)\n"
     ]
    }
   ],
   "source": [
    "!pip install mlxtend"
   ]
  },
  {
   "cell_type": "code",
   "execution_count": null,
   "id": "120e2915",
   "metadata": {},
   "outputs": [],
   "source": []
  },
  {
   "cell_type": "code",
   "execution_count": 8,
   "id": "8e78ec0f",
   "metadata": {},
   "outputs": [
    {
     "data": {
      "text/html": [
       "<div>\n",
       "<style scoped>\n",
       "    .dataframe tbody tr th:only-of-type {\n",
       "        vertical-align: middle;\n",
       "    }\n",
       "\n",
       "    .dataframe tbody tr th {\n",
       "        vertical-align: top;\n",
       "    }\n",
       "\n",
       "    .dataframe thead th {\n",
       "        text-align: right;\n",
       "    }\n",
       "</style>\n",
       "<table border=\"1\" class=\"dataframe\">\n",
       "  <thead>\n",
       "    <tr style=\"text-align: right;\">\n",
       "      <th></th>\n",
       "      <th>antecedents</th>\n",
       "      <th>consequents</th>\n",
       "      <th>antecedent support</th>\n",
       "      <th>consequent support</th>\n",
       "      <th>support</th>\n",
       "      <th>confidence</th>\n",
       "      <th>lift</th>\n",
       "      <th>leverage</th>\n",
       "      <th>conviction</th>\n",
       "      <th>zhangs_metric</th>\n",
       "    </tr>\n",
       "  </thead>\n",
       "  <tbody>\n",
       "    <tr>\n",
       "      <th>0</th>\n",
       "      <td>(avocado)</td>\n",
       "      <td>(mineral water)</td>\n",
       "      <td>0.033200</td>\n",
       "      <td>0.238267</td>\n",
       "      <td>0.011467</td>\n",
       "      <td>0.345382</td>\n",
       "      <td>1.449559</td>\n",
       "      <td>0.003556</td>\n",
       "      <td>1.163629</td>\n",
       "      <td>0.320785</td>\n",
       "    </tr>\n",
       "    <tr>\n",
       "      <th>1</th>\n",
       "      <td>(mineral water)</td>\n",
       "      <td>(avocado)</td>\n",
       "      <td>0.238267</td>\n",
       "      <td>0.033200</td>\n",
       "      <td>0.011467</td>\n",
       "      <td>0.048125</td>\n",
       "      <td>1.449559</td>\n",
       "      <td>0.003556</td>\n",
       "      <td>1.015680</td>\n",
       "      <td>0.407144</td>\n",
       "    </tr>\n",
       "    <tr>\n",
       "      <th>2</th>\n",
       "      <td>(cake)</td>\n",
       "      <td>(burgers)</td>\n",
       "      <td>0.081067</td>\n",
       "      <td>0.087200</td>\n",
       "      <td>0.011467</td>\n",
       "      <td>0.141447</td>\n",
       "      <td>1.622103</td>\n",
       "      <td>0.004398</td>\n",
       "      <td>1.063185</td>\n",
       "      <td>0.417349</td>\n",
       "    </tr>\n",
       "    <tr>\n",
       "      <th>3</th>\n",
       "      <td>(burgers)</td>\n",
       "      <td>(cake)</td>\n",
       "      <td>0.087200</td>\n",
       "      <td>0.081067</td>\n",
       "      <td>0.011467</td>\n",
       "      <td>0.131498</td>\n",
       "      <td>1.622103</td>\n",
       "      <td>0.004398</td>\n",
       "      <td>1.058068</td>\n",
       "      <td>0.420154</td>\n",
       "    </tr>\n",
       "    <tr>\n",
       "      <th>4</th>\n",
       "      <td>(chocolate)</td>\n",
       "      <td>(burgers)</td>\n",
       "      <td>0.163867</td>\n",
       "      <td>0.087200</td>\n",
       "      <td>0.017067</td>\n",
       "      <td>0.104150</td>\n",
       "      <td>1.194377</td>\n",
       "      <td>0.002777</td>\n",
       "      <td>1.018920</td>\n",
       "      <td>0.194639</td>\n",
       "    </tr>\n",
       "  </tbody>\n",
       "</table>\n",
       "</div>"
      ],
      "text/plain": [
       "       antecedents      consequents  antecedent support  consequent support  \\\n",
       "0        (avocado)  (mineral water)            0.033200            0.238267   \n",
       "1  (mineral water)        (avocado)            0.238267            0.033200   \n",
       "2           (cake)        (burgers)            0.081067            0.087200   \n",
       "3        (burgers)           (cake)            0.087200            0.081067   \n",
       "4      (chocolate)        (burgers)            0.163867            0.087200   \n",
       "\n",
       "    support  confidence      lift  leverage  conviction  zhangs_metric  \n",
       "0  0.011467    0.345382  1.449559  0.003556    1.163629       0.320785  \n",
       "1  0.011467    0.048125  1.449559  0.003556    1.015680       0.407144  \n",
       "2  0.011467    0.141447  1.622103  0.004398    1.063185       0.417349  \n",
       "3  0.011467    0.131498  1.622103  0.004398    1.058068       0.420154  \n",
       "4  0.017067    0.104150  1.194377  0.002777    1.018920       0.194639  "
      ]
     },
     "execution_count": 8,
     "metadata": {},
     "output_type": "execute_result"
    }
   ],
   "source": [
    "from mlxtend.preprocessing import TransactionEncoder\n",
    "from mlxtend.frequent_patterns import apriori, association_rules\n",
    "\n",
    "# Initialize the transaction encoder\n",
    "te = TransactionEncoder()\n",
    "\n",
    "# Fit and transform the transaction data\n",
    "te_ary = te.fit(transactions).transform(transactions)\n",
    "\n",
    "# Convert the transaction data to a DataFrame\n",
    "df = pd.DataFrame(te_ary, columns=te.columns_)\n",
    "\n",
    "# Apply the Apriori algorithm to find frequent itemsets\n",
    "frequent_itemsets = apriori(df, min_support=0.01, use_colnames=True)\n",
    "\n",
    "# Generate association rules\n",
    "rules = association_rules(frequent_itemsets, metric=\"lift\", min_threshold=1)\n",
    "\n",
    "# Display the first few rules\n",
    "rules.head()\n"
   ]
  },
  {
   "cell_type": "code",
   "execution_count": null,
   "id": "0184db81",
   "metadata": {},
   "outputs": [],
   "source": []
  },
  {
   "cell_type": "markdown",
   "id": "a1613968",
   "metadata": {},
   "source": [
    "### Analysis and Interpretation"
   ]
  },
  {
   "cell_type": "code",
   "execution_count": 9,
   "id": "68d43c79",
   "metadata": {},
   "outputs": [
    {
     "name": "stdout",
     "output_type": "stream",
     "text": [
      "Rule: frozenset({'ground beef', 'eggs'}) -> frozenset({'mineral water'})\n",
      "Support: 0.010133333333333333\n",
      "Confidence: 0.5066666666666666\n",
      "Lift: 2.1264689423614995\n",
      "====================================\n",
      "Rule: frozenset({'ground beef', 'milk'}) -> frozenset({'mineral water'})\n",
      "Support: 0.011066666666666667\n",
      "Confidence: 0.503030303030303\n",
      "Lift: 2.1112072035407237\n",
      "====================================\n"
     ]
    }
   ],
   "source": [
    "# Filter the rules based on support, confidence, and lift\n",
    "rules = rules[(rules['support'] >= 0.01) & (rules['confidence'] >= 0.5) & (rules['lift'] >= 1)]\n",
    "\n",
    "# Sort the rules by confidence in descending order\n",
    "rules = rules.sort_values('confidence', ascending=False)\n",
    "\n",
    "# Display the first few rules\n",
    "rules.head()\n",
    "\n",
    "# Interpret the results\n",
    "for index, rule in rules.iterrows():\n",
    "    print(f\"Rule: {rule['antecedents']} -> {rule['consequents']}\")\n",
    "    print(f\"Support: {rule['support']}\")\n",
    "    print(f\"Confidence: {rule['confidence']}\")\n",
    "    print(f\"Lift: {rule['lift']}\")\n",
    "    print(\"====================================\")\n"
   ]
  },
  {
   "cell_type": "code",
   "execution_count": null,
   "id": "9ebbbdd5",
   "metadata": {},
   "outputs": [],
   "source": []
  },
  {
   "cell_type": "code",
   "execution_count": null,
   "id": "9e192b06",
   "metadata": {},
   "outputs": [],
   "source": []
  }
 ],
 "metadata": {
  "kernelspec": {
   "display_name": "Python 3 (ipykernel)",
   "language": "python",
   "name": "python3"
  },
  "language_info": {
   "codemirror_mode": {
    "name": "ipython",
    "version": 3
   },
   "file_extension": ".py",
   "mimetype": "text/x-python",
   "name": "python",
   "nbconvert_exporter": "python",
   "pygments_lexer": "ipython3",
   "version": "3.11.4"
  }
 },
 "nbformat": 4,
 "nbformat_minor": 5
}
